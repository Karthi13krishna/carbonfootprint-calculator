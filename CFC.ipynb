{
 "cells": [
  {
   "cell_type": "code",
   "execution_count": 4,
   "metadata": {},
   "outputs": [],
   "source": [
    "import tkinter as tk\n",
    "import tkinter.ttk as ttk\n",
    "from ttkthemes import ThemedStyle\n",
    "\n",
    "a = [0,0,0,0,0]\n",
    "\n",
    "def button_pressed():\n",
    "    a[0] = calc(elec_entry.get(),0.708)\n",
    "    a[1] = calc(bus_entry.get(),0.10312)\n",
    "    a[2] = calc(local_train_entry.get(),0.036939994)\n",
    "    a[3] = calc(train_entry.get(),0.00497)\n",
    "    final_text.set(\"{:.2f}\".format(sum(a)) + \" metric tons of CO2\")\n",
    "    \n",
    "def selec():\n",
    "    tabControl.select(1)\n",
    "    \n",
    "    \n",
    "def calc(var, val):\n",
    "    try:\n",
    "        carbon = (float(var) * val)/1000\n",
    "    except:\n",
    "        carbon = 0\n",
    "    return carbon\n",
    "\n",
    "root = tk.Tk()\n",
    "style = ThemedStyle(root)\n",
    "style.set_theme(\"plastik\")\n",
    "root.title(\"CarbonFootprint Calculator\")\n",
    "root.geometry(\"640x480\")\n",
    "\n",
    "tabControl = ttk.Notebook(root)\n",
    "tab1 = ttk.Frame(tabControl) \n",
    "tab2 = ttk.Frame(tabControl)\n",
    "\n",
    "tabControl.add(tab1, text ='House') \n",
    "tabControl.add(tab2, text ='Transport') \n",
    "style.configure(\"Tab\", focuscolor=style.configure(\".\")[\"background\"])\n",
    "tabControl.pack(expand = 1, fill =\"both\")\n",
    "\n",
    "elec_label = tk.Label(tab1, text = \"Electricity (in kWh):\", padx = 50, pady =30)\n",
    "elec_entry = ttk.Entry(tab1)\n",
    "\n",
    "elec_label.grid(row=0, column=0)\n",
    "elec_entry.grid(row = 0, column=1)\n",
    "\n",
    "transport_button = ttk.Button(tab1, text = \"Next: Transport\", command = selec)\n",
    "transport_button.grid(row = 1, column = 1)\n",
    "\n",
    "\n",
    "bus_label = tk.Label(tab2, text = \"Bus (in km):\", padx = 50, pady =10)\n",
    "bus_entry = ttk.Entry(tab2)\n",
    "\n",
    "bus_label.grid(row=0, column=0)\n",
    "bus_entry.grid(row = 0, column=1)\n",
    "\n",
    "local_train_label = tk.Label(tab2, text = \"Local Train (in km):\", padx = 50, pady =10)\n",
    "local_train_entry = ttk.Entry(tab2)\n",
    "\n",
    "local_train_label.grid(row=1, column=0)\n",
    "local_train_entry.grid(row = 1, column=1)\n",
    "\n",
    "train_label = tk.Label(tab2, text = \"Train (in km):\", padx = 50, pady =10)\n",
    "train_entry = ttk.Entry(tab2)\n",
    "\n",
    "train_label.grid(row=2, column=0)\n",
    "train_entry.grid(row = 2, column=1)\n",
    "\n",
    "final_button = ttk.Button(root, text = \"Calculate CFC\", command = button_pressed)\n",
    "final_button.pack(pady = 20)\n",
    "\n",
    "final_text = tk.StringVar()\n",
    "final_text.set(\"Calculate Carbon Footprint\")\n",
    "final_message = tk.Label(root, textvariable = final_text)\n",
    "final_message.pack(pady = 10)\n",
    "\n",
    "root.mainloop()"
   ]
  },
  {
   "cell_type": "code",
   "execution_count": 28,
   "metadata": {},
   "outputs": [
    {
     "name": "stdout",
     "output_type": "stream",
     "text": [
      "0.036939999999999994\n"
     ]
    }
   ],
   "source": [
    "bus = 0.10312\n",
    "train = 0.00497\n",
    "local_train = 0.036939999999999994\n",
    "chicken = 6.9\n",
    "taxi = (36.94/1000000)*1000\n",
    "print(taxi)"
   ]
  },
  {
   "cell_type": "code",
   "execution_count": null,
   "metadata": {},
   "outputs": [],
   "source": []
  }
 ],
 "metadata": {
  "kernelspec": {
   "display_name": "Python 3",
   "language": "python",
   "name": "python3"
  },
  "language_info": {
   "codemirror_mode": {
    "name": "ipython",
    "version": 3
   },
   "file_extension": ".py",
   "mimetype": "text/x-python",
   "name": "python",
   "nbconvert_exporter": "python",
   "pygments_lexer": "ipython3",
   "version": "3.7.7"
  }
 },
 "nbformat": 4,
 "nbformat_minor": 4
}
